{
 "cells": [
  {
   "cell_type": "markdown",
   "id": "5300bf63",
   "metadata": {},
   "source": [
    "Exploring Instacart Data\n",
    "\n",
    "This project explores data from Instacart to give insights on users' order behaviors."
   ]
  },
  {
   "cell_type": "code",
   "execution_count": 1,
   "id": "ad36396d",
   "metadata": {},
   "outputs": [],
   "source": [
    "import pandas as pd\n",
    "from matplotlib import pyplot as plt\n",
    "import numpy as np"
   ]
  },
  {
   "cell_type": "code",
   "execution_count": 2,
   "id": "ad6a1efa",
   "metadata": {},
   "outputs": [
    {
     "name": "stdout",
     "output_type": "stream",
     "text": [
      "<class 'pandas.core.frame.DataFrame'>\n",
      "RangeIndex: 478967 entries, 0 to 478966\n",
      "Data columns (total 6 columns):\n",
      " #   Column                  Non-Null Count   Dtype  \n",
      "---  ------                  --------------   -----  \n",
      " 0   order_id                478967 non-null  int64  \n",
      " 1   user_id                 478967 non-null  int64  \n",
      " 2   order_number            478967 non-null  int64  \n",
      " 3   order_dow               478967 non-null  int64  \n",
      " 4   order_hour_of_day       478967 non-null  int64  \n",
      " 5   days_since_prior_order  450148 non-null  float64\n",
      "dtypes: float64(1), int64(5)\n",
      "memory usage: 21.9 MB\n"
     ]
    }
   ],
   "source": [
    "try:\n",
    "    orders = pd.read_csv('./datasets/instacart_orders.csv', sep=';')\n",
    "except:\n",
    "    orders = pd.read_csv('https://practicum-content.s3.us-west-1.amazonaws.com/datasets/instacart_orders.csv', sep=';')\n",
    "orders.info()"
   ]
  },
  {
   "cell_type": "code",
   "execution_count": 3,
   "id": "5130e05e",
   "metadata": {},
   "outputs": [
    {
     "name": "stdout",
     "output_type": "stream",
     "text": [
      "<class 'pandas.core.frame.DataFrame'>\n",
      "RangeIndex: 49694 entries, 0 to 49693\n",
      "Data columns (total 4 columns):\n",
      " #   Column         Non-Null Count  Dtype \n",
      "---  ------         --------------  ----- \n",
      " 0   product_id     49694 non-null  int64 \n",
      " 1   product_name   48436 non-null  object\n",
      " 2   aisle_id       49694 non-null  int64 \n",
      " 3   department_id  49694 non-null  int64 \n",
      "dtypes: int64(3), object(1)\n",
      "memory usage: 1.5+ MB\n"
     ]
    }
   ],
   "source": [
    "try:\n",
    "    products = pd.read_csv('./datasets/products.csv', sep=';')\n",
    "except:\n",
    "    products = pd.read_csv('https://practicum-content.s3.us-west-1.amazonaws.com/datasets/products.csv', sep=';')\n",
    "products.info()"
   ]
  },
  {
   "cell_type": "code",
   "execution_count": 4,
   "id": "d8370c05",
   "metadata": {},
   "outputs": [
    {
     "name": "stdout",
     "output_type": "stream",
     "text": [
      "<class 'pandas.core.frame.DataFrame'>\n",
      "RangeIndex: 134 entries, 0 to 133\n",
      "Data columns (total 2 columns):\n",
      " #   Column    Non-Null Count  Dtype \n",
      "---  ------    --------------  ----- \n",
      " 0   aisle_id  134 non-null    int64 \n",
      " 1   aisle     134 non-null    object\n",
      "dtypes: int64(1), object(1)\n",
      "memory usage: 2.2+ KB\n"
     ]
    }
   ],
   "source": [
    "try:\n",
    "    aisles = pd.read_csv('./datasets/aisles.csv', sep=';')\n",
    "except:\n",
    "    aisles = pd.read_csv('https://practicum-content.s3.us-west-1.amazonaws.com/datasets/aisles.csv', sep=';')\n",
    "aisles.info()"
   ]
  },
  {
   "cell_type": "code",
   "execution_count": 5,
   "id": "59e2090f",
   "metadata": {},
   "outputs": [
    {
     "name": "stdout",
     "output_type": "stream",
     "text": [
      "<class 'pandas.core.frame.DataFrame'>\n",
      "RangeIndex: 21 entries, 0 to 20\n",
      "Data columns (total 2 columns):\n",
      " #   Column         Non-Null Count  Dtype \n",
      "---  ------         --------------  ----- \n",
      " 0   department_id  21 non-null     int64 \n",
      " 1   department     21 non-null     object\n",
      "dtypes: int64(1), object(1)\n",
      "memory usage: 468.0+ bytes\n"
     ]
    }
   ],
   "source": [
    "try:\n",
    "    departments = pd.read_csv('./datasets/departments.csv', sep=';')\n",
    "except:\n",
    "    departments = pd.read_csv('https://practicum-content.s3.us-west-1.amazonaws.com/datasets/departments.csv', sep=';')\n",
    "departments.info()"
   ]
  },
  {
   "cell_type": "code",
   "execution_count": 6,
   "id": "6fc81694",
   "metadata": {},
   "outputs": [
    {
     "name": "stdout",
     "output_type": "stream",
     "text": [
      "<class 'pandas.core.frame.DataFrame'>\n",
      "RangeIndex: 4545007 entries, 0 to 4545006\n",
      "Data columns (total 4 columns):\n",
      " #   Column             Non-Null Count    Dtype  \n",
      "---  ------             --------------    -----  \n",
      " 0   order_id           4545007 non-null  int64  \n",
      " 1   product_id         4545007 non-null  int64  \n",
      " 2   add_to_cart_order  4544171 non-null  float64\n",
      " 3   reordered          4545007 non-null  int64  \n",
      "dtypes: float64(1), int64(3)\n",
      "memory usage: 138.7 MB\n"
     ]
    }
   ],
   "source": [
    "try:\n",
    "    order_products = pd.read_csv('./datasets/order_products.csv', sep=';')\n",
    "except:\n",
    "    order_products = pd.read_csv('https://practicum-content.s3.us-west-1.amazonaws.com/datasets/order_products.csv', sep=';')\n",
    "order_products.info(show_counts=True) # displays non-null counts"
   ]
  },
  {
   "cell_type": "markdown",
   "id": "07357848-dc64-4156-9cc3-01ff4365226d",
   "metadata": {},
   "source": [
    "## Find and remove duplicate values (and describe why you make your choices)"
   ]
  },
  {
   "cell_type": "markdown",
   "id": "f179f0a9",
   "metadata": {},
   "source": [
    "### `orders` data frame"
   ]
  },
  {
   "cell_type": "code",
   "execution_count": 7,
   "id": "b99297a5-405a-463d-8535-9adc3da4ad74",
   "metadata": {},
   "outputs": [
    {
     "name": "stdout",
     "output_type": "stream",
     "text": [
      "15\n"
     ]
    }
   ],
   "source": [
    "# Check for duplicated orders\n",
    "print(orders.duplicated().sum()) # Count the number of duplicates"
   ]
  },
  {
   "cell_type": "code",
   "execution_count": 8,
   "id": "0d44de5d",
   "metadata": {},
   "outputs": [
    {
     "data": {
      "text/html": [
       "<div>\n",
       "<style scoped>\n",
       "    .dataframe tbody tr th:only-of-type {\n",
       "        vertical-align: middle;\n",
       "    }\n",
       "\n",
       "    .dataframe tbody tr th {\n",
       "        vertical-align: top;\n",
       "    }\n",
       "\n",
       "    .dataframe thead th {\n",
       "        text-align: right;\n",
       "    }\n",
       "</style>\n",
       "<table border=\"1\" class=\"dataframe\">\n",
       "  <thead>\n",
       "    <tr style=\"text-align: right;\">\n",
       "      <th></th>\n",
       "      <th>order_id</th>\n",
       "      <th>user_id</th>\n",
       "      <th>order_number</th>\n",
       "      <th>order_dow</th>\n",
       "      <th>order_hour_of_day</th>\n",
       "      <th>days_since_prior_order</th>\n",
       "    </tr>\n",
       "  </thead>\n",
       "  <tbody>\n",
       "    <tr>\n",
       "      <th>4838</th>\n",
       "      <td>2766110</td>\n",
       "      <td>162084</td>\n",
       "      <td>41</td>\n",
       "      <td>3</td>\n",
       "      <td>2</td>\n",
       "      <td>16.0</td>\n",
       "    </tr>\n",
       "    <tr>\n",
       "      <th>5156</th>\n",
       "      <td>2190225</td>\n",
       "      <td>138285</td>\n",
       "      <td>18</td>\n",
       "      <td>3</td>\n",
       "      <td>2</td>\n",
       "      <td>11.0</td>\n",
       "    </tr>\n",
       "    <tr>\n",
       "      <th>15506</th>\n",
       "      <td>553049</td>\n",
       "      <td>58599</td>\n",
       "      <td>13</td>\n",
       "      <td>3</td>\n",
       "      <td>2</td>\n",
       "      <td>7.0</td>\n",
       "    </tr>\n",
       "    <tr>\n",
       "      <th>18420</th>\n",
       "      <td>382357</td>\n",
       "      <td>120200</td>\n",
       "      <td>19</td>\n",
       "      <td>3</td>\n",
       "      <td>2</td>\n",
       "      <td>11.0</td>\n",
       "    </tr>\n",
       "    <tr>\n",
       "      <th>24691</th>\n",
       "      <td>690242</td>\n",
       "      <td>77357</td>\n",
       "      <td>2</td>\n",
       "      <td>3</td>\n",
       "      <td>2</td>\n",
       "      <td>9.0</td>\n",
       "    </tr>\n",
       "    <tr>\n",
       "      <th>...</th>\n",
       "      <td>...</td>\n",
       "      <td>...</td>\n",
       "      <td>...</td>\n",
       "      <td>...</td>\n",
       "      <td>...</td>\n",
       "      <td>...</td>\n",
       "    </tr>\n",
       "    <tr>\n",
       "      <th>457013</th>\n",
       "      <td>3384021</td>\n",
       "      <td>14881</td>\n",
       "      <td>6</td>\n",
       "      <td>3</td>\n",
       "      <td>2</td>\n",
       "      <td>30.0</td>\n",
       "    </tr>\n",
       "    <tr>\n",
       "      <th>458816</th>\n",
       "      <td>910166</td>\n",
       "      <td>164782</td>\n",
       "      <td>18</td>\n",
       "      <td>3</td>\n",
       "      <td>2</td>\n",
       "      <td>4.0</td>\n",
       "    </tr>\n",
       "    <tr>\n",
       "      <th>459635</th>\n",
       "      <td>1680532</td>\n",
       "      <td>106435</td>\n",
       "      <td>6</td>\n",
       "      <td>3</td>\n",
       "      <td>2</td>\n",
       "      <td>21.0</td>\n",
       "    </tr>\n",
       "    <tr>\n",
       "      <th>468324</th>\n",
       "      <td>222962</td>\n",
       "      <td>54979</td>\n",
       "      <td>59</td>\n",
       "      <td>3</td>\n",
       "      <td>2</td>\n",
       "      <td>3.0</td>\n",
       "    </tr>\n",
       "    <tr>\n",
       "      <th>477526</th>\n",
       "      <td>2592344</td>\n",
       "      <td>46860</td>\n",
       "      <td>38</td>\n",
       "      <td>3</td>\n",
       "      <td>2</td>\n",
       "      <td>3.0</td>\n",
       "    </tr>\n",
       "  </tbody>\n",
       "</table>\n",
       "<p>121 rows × 6 columns</p>\n",
       "</div>"
      ],
      "text/plain": [
       "        order_id  user_id  order_number  order_dow  order_hour_of_day  \\\n",
       "4838     2766110   162084            41          3                  2   \n",
       "5156     2190225   138285            18          3                  2   \n",
       "15506     553049    58599            13          3                  2   \n",
       "18420     382357   120200            19          3                  2   \n",
       "24691     690242    77357             2          3                  2   \n",
       "...          ...      ...           ...        ...                ...   \n",
       "457013   3384021    14881             6          3                  2   \n",
       "458816    910166   164782            18          3                  2   \n",
       "459635   1680532   106435             6          3                  2   \n",
       "468324    222962    54979            59          3                  2   \n",
       "477526   2592344    46860            38          3                  2   \n",
       "\n",
       "        days_since_prior_order  \n",
       "4838                      16.0  \n",
       "5156                      11.0  \n",
       "15506                      7.0  \n",
       "18420                     11.0  \n",
       "24691                      9.0  \n",
       "...                        ...  \n",
       "457013                    30.0  \n",
       "458816                     4.0  \n",
       "459635                    21.0  \n",
       "468324                     3.0  \n",
       "477526                     3.0  \n",
       "\n",
       "[121 rows x 6 columns]"
      ]
     },
     "metadata": {},
     "output_type": "display_data"
    }
   ],
   "source": [
    "# Check for all orders placed Wednesday at 2:00 AM\n",
    "#print(orders.groupby('order_dow')['order_dow'].value_counts()) #- shows that 0 and 1 have the most orders\n",
    "# which doesn't tell me if 0 is Sunday or Monday, but according to circuit.com (https://getcircuit.com/route-planner/blog/best-times-to-drive-for-instacart),\n",
    "# Sunday is busiest followed by Monday.\n",
    "# I will assume that the week starts on Sunday (Wednesday is 3). \n",
    "# I will also assume 0 is 12am (2am is therefore 2).\n",
    "display(orders[(orders['order_dow'] == 3) & (orders['order_hour_of_day'] == 2)]) # Filtered to Wednesday at 2AM"
   ]
  },
  {
   "cell_type": "code",
   "execution_count": 9,
   "id": "480563c7",
   "metadata": {},
   "outputs": [],
   "source": [
    "# Remove duplicate orders\n",
    "orders = orders.drop_duplicates() # Removes duplicate rows"
   ]
  },
  {
   "cell_type": "code",
   "execution_count": 10,
   "id": "0b2396a2",
   "metadata": {},
   "outputs": [
    {
     "name": "stdout",
     "output_type": "stream",
     "text": [
      "0\n"
     ]
    }
   ],
   "source": [
    "# Double check for duplicate rows\n",
    "print(orders.duplicated().sum()) # Count the number of duplicates"
   ]
  },
  {
   "cell_type": "code",
   "execution_count": 11,
   "id": "f6113ef1",
   "metadata": {},
   "outputs": [
    {
     "name": "stdout",
     "output_type": "stream",
     "text": [
      "0\n"
     ]
    }
   ],
   "source": [
    "# Double check for duplicate order IDs only\n",
    "print(orders['order_id'].duplicated().sum()) # Counts the duplicates for 'order_id' column"
   ]
  },
  {
   "cell_type": "markdown",
   "id": "45e6bc46",
   "metadata": {},
   "source": [
    "### `products` data frame"
   ]
  },
  {
   "cell_type": "code",
   "execution_count": 12,
   "id": "5f526b5b-8175-46fa-a0fd-441767d50e64",
   "metadata": {},
   "outputs": [
    {
     "name": "stdout",
     "output_type": "stream",
     "text": [
      "0\n"
     ]
    }
   ],
   "source": [
    "# Check for fully duplicate rows\n",
    "print(products.duplicated().sum()) # Count the number of duplicated rows"
   ]
  },
  {
   "cell_type": "code",
   "execution_count": 13,
   "id": "88daa4f4",
   "metadata": {},
   "outputs": [
    {
     "name": "stdout",
     "output_type": "stream",
     "text": [
      "0\n"
     ]
    }
   ],
   "source": [
    "# Check for just duplicate product IDs\n",
    "print(products['product_id'].duplicated().sum()) # Counts the duplicates for 'product_id' column"
   ]
  },
  {
   "cell_type": "code",
   "execution_count": 14,
   "id": "c773f0bf",
   "metadata": {},
   "outputs": [
    {
     "name": "stdout",
     "output_type": "stream",
     "text": [
      "1361\n"
     ]
    }
   ],
   "source": [
    "# Check for just duplicate product names (convert names to lowercase to compare better)\n",
    "print(products['product_name'].str.lower().duplicated().sum()) # Counts the duplicates for 'product_name' column"
   ]
  },
  {
   "cell_type": "code",
   "execution_count": 15,
   "id": "01efd02e",
   "metadata": {},
   "outputs": [
    {
     "name": "stdout",
     "output_type": "stream",
     "text": [
      "104\n"
     ]
    }
   ],
   "source": [
    "# Check for duplicate product names that aren't missing\n",
    "products_no_missing = products.dropna(subset=['product_name']) # drops the rows with missing product names\n",
    "print(products_no_missing['product_name'].str.lower().duplicated().sum()) # counts the duplicate product names without missing"
   ]
  },
  {
   "cell_type": "markdown",
   "id": "60f30db1",
   "metadata": {},
   "source": [
    "### `departments` data frame"
   ]
  },
  {
   "cell_type": "code",
   "execution_count": 16,
   "id": "fb410ad4-0fbf-4b80-bb09-23fdea79afe3",
   "metadata": {},
   "outputs": [
    {
     "name": "stdout",
     "output_type": "stream",
     "text": [
      "0\n"
     ]
    }
   ],
   "source": [
    "print(departments.duplicated().sum()) # checks for duplicated rows"
   ]
  },
  {
   "cell_type": "code",
   "execution_count": 17,
   "id": "332b12bb",
   "metadata": {},
   "outputs": [
    {
     "name": "stdout",
     "output_type": "stream",
     "text": [
      "0\n"
     ]
    }
   ],
   "source": [
    "print(departments['department'].str.lower().duplicated().sum()) # counts the duplicate departments"
   ]
  },
  {
   "cell_type": "markdown",
   "id": "889349c1",
   "metadata": {},
   "source": [
    "### `aisles` data frame"
   ]
  },
  {
   "cell_type": "code",
   "execution_count": 18,
   "id": "9da89fb9-4679-40f5-ad0d-c34df753a3f8",
   "metadata": {},
   "outputs": [
    {
     "name": "stdout",
     "output_type": "stream",
     "text": [
      "0\n"
     ]
    }
   ],
   "source": [
    "print(aisles.duplicated().sum()) # checks for duplicated rows"
   ]
  },
  {
   "cell_type": "code",
   "execution_count": 19,
   "id": "da7c2822",
   "metadata": {},
   "outputs": [
    {
     "name": "stdout",
     "output_type": "stream",
     "text": [
      "0\n"
     ]
    }
   ],
   "source": [
    "print(aisles['aisle'].str.lower().duplicated().sum()) # counts the duplicate departments"
   ]
  },
  {
   "cell_type": "markdown",
   "id": "274cd06a",
   "metadata": {},
   "source": [
    "### `order_products` data frame"
   ]
  },
  {
   "cell_type": "code",
   "execution_count": 20,
   "id": "52326689-84a8-4b8f-a881-7c68780f62c9",
   "metadata": {},
   "outputs": [
    {
     "name": "stdout",
     "output_type": "stream",
     "text": [
      "0\n"
     ]
    }
   ],
   "source": [
    "# Check for fullly duplicate rows\n",
    "print(order_products.duplicated().sum()) # checks for duplicated rows"
   ]
  },
  {
   "cell_type": "code",
   "execution_count": 21,
   "id": "7b861391",
   "metadata": {},
   "outputs": [
    {
     "name": "stdout",
     "output_type": "stream",
     "text": [
      "0\n"
     ]
    }
   ],
   "source": [
    "# Double check for any other tricky duplicates\n",
    "print(order_products[['order_id', 'product_id']].duplicated().sum())"
   ]
  },
  {
   "cell_type": "markdown",
   "id": "1e46de76",
   "metadata": {},
   "source": [
    "## Find and remove missing values\n"
   ]
  },
  {
   "cell_type": "markdown",
   "id": "c0aebd78",
   "metadata": {},
   "source": [
    "### `products` data frame"
   ]
  },
  {
   "cell_type": "code",
   "execution_count": 22,
   "id": "e96167bc",
   "metadata": {},
   "outputs": [
    {
     "name": "stdout",
     "output_type": "stream",
     "text": [
      "True\n"
     ]
    }
   ],
   "source": [
    "# Are all of the missing product names associated with aisle ID 100?\n",
    "# Check the length of the series returned by the condition to see\n",
    "# if it is the same as the count of the missing values from the 'product_name' column\n",
    "print(len(products[(products['product_name'].isnull()) & (products['aisle_id'] == 100)]) == \n",
    "      products['product_name'].isna().sum())"
   ]
  },
  {
   "cell_type": "code",
   "execution_count": 23,
   "id": "8fd0a541",
   "metadata": {},
   "outputs": [
    {
     "name": "stdout",
     "output_type": "stream",
     "text": [
      "True\n"
     ]
    }
   ],
   "source": [
    "# Are all of the missing product names associated with department ID 21?\n",
    "print(len(products[(products['product_name'].isnull()) & (products['department_id'] == 21)]) == \n",
    "      products['product_name'].isna().sum())"
   ]
  },
  {
   "cell_type": "code",
   "execution_count": 24,
   "id": "325c3464",
   "metadata": {},
   "outputs": [
    {
     "name": "stdout",
     "output_type": "stream",
     "text": [
      "Aisle: missing\n",
      "Department: missing\n"
     ]
    }
   ],
   "source": [
    "# What is this ailse and department?\n",
    "# prints the value of the cell under 'aisle' where 'aisle_id' is 100\n",
    "print('Aisle:', aisles[aisles['aisle_id'] == 100]['aisle'].values[0])\n",
    "# prints the value of the cell under 'department' where 'department_id' is 21\n",
    "print('Department:', departments[departments['department_id'] == 21]['department'].values[0])"
   ]
  },
  {
   "cell_type": "code",
   "execution_count": 25,
   "id": "6b295120",
   "metadata": {},
   "outputs": [],
   "source": [
    "# Fill missing product names with 'Unknown'\n",
    "products['product_name'] = products['product_name'].fillna('Unknown')"
   ]
  },
  {
   "cell_type": "markdown",
   "id": "7eb45c86",
   "metadata": {},
   "source": [
    "### `orders` data frame"
   ]
  },
  {
   "cell_type": "code",
   "execution_count": 26,
   "id": "166e5a86",
   "metadata": {},
   "outputs": [
    {
     "name": "stdout",
     "output_type": "stream",
     "text": [
      "0\n"
     ]
    }
   ],
   "source": [
    "# Are there any missing values where it's not a customer's first order?\n",
    "# Prints number of missing values where 'order_number' is not 1\n",
    "print(orders[(orders['order_number'] != 1)]['days_since_prior_order'].isna().sum())"
   ]
  },
  {
   "cell_type": "markdown",
   "id": "69dc9ca4",
   "metadata": {},
   "source": [
    "### `order_products` data frame"
   ]
  },
  {
   "cell_type": "code",
   "execution_count": 27,
   "id": "9a78e5ee",
   "metadata": {},
   "outputs": [
    {
     "name": "stdout",
     "output_type": "stream",
     "text": [
      "Min: 4 \n",
      "Max: 3421079\n"
     ]
    }
   ],
   "source": [
    "# What are the min and max values in this column?\n",
    "# I'm not sure which column, so I'm assuming 'order_id'\n",
    "print('Min:', order_products['order_id'].min(), '\\nMax:', order_products['order_id'].max())"
   ]
  },
  {
   "cell_type": "code",
   "execution_count": 28,
   "id": "ab9d0c2b",
   "metadata": {},
   "outputs": [
    {
     "name": "stdout",
     "output_type": "stream",
     "text": [
      "[2449164 1968313 2926893 1717990 1959075  844733   61355  936852  264710\n",
      " 1564093  129627  293169 2849370 1386261 3308010  903110 2136777 3347453\n",
      " 1888628  165801 2094761 1038146 2997021  813364 2256933  171934 2409109\n",
      " 1730767 1169835  733526  404157 3125735  747668 1800005 1961723  871281\n",
      "  388234 1648217 1477139  102236 1021563 1832957 2721963  678116 1220886\n",
      " 1673227 2999801 1633337 2470674 2625444 1677118 2479011 3383594 1183255\n",
      " 1713430 2652650 1598369 1916118  854647 1302315  888470  180546 2621907\n",
      " 1308785 2729254    9310 2170451 2979697 1625713 1529171]\n"
     ]
    }
   ],
   "source": [
    "# Save all order IDs with at least one missing value in 'add_to_cart_order'\n",
    "# Take all the rows that have missing values in 'add_to_cart_order'\n",
    "# and the unique order_ids from that row.\n",
    "order_missing_atco = order_products[order_products['add_to_cart_order'].isna()]['order_id'].unique()\n",
    "print(order_missing_atco)"
   ]
  },
  {
   "cell_type": "code",
   "execution_count": 29,
   "id": "54c31695",
   "metadata": {},
   "outputs": [
    {
     "name": "stdout",
     "output_type": "stream",
     "text": [
      "order_id\n",
      "61355      127\n",
      "3308010    115\n",
      "2136777    108\n",
      "171934     104\n",
      "1959075     98\n",
      "          ... \n",
      "888470      65\n",
      "1598369     65\n",
      "747668      65\n",
      "1677118     65\n",
      "9310        65\n",
      "Name: product_id, Length: 70, dtype: int64\n"
     ]
    }
   ],
   "source": [
    "# Do all orders with missing values have more than 64 products?\n",
    "# It looks like the highest is 4 products. Maybe I'm not understanding what it's asking.\n",
    "grouped_orders = order_products[order_products['order_id'].isin(order_missing_atco)].groupby('order_id')['product_id'].count()\n",
    "\n",
    "sorted_orders = grouped_orders.sort_values(ascending=False)\n",
    "\n",
    "print(sorted_orders)\n",
    "# print(order_products[order_products['add_to_cart_order'].isna()]['product_id'].value_counts(ascending=False))\n"
   ]
  },
  {
   "cell_type": "code",
   "execution_count": 30,
   "id": "7a987d08",
   "metadata": {},
   "outputs": [
    {
     "name": "stdout",
     "output_type": "stream",
     "text": [
      "True\n",
      "<class 'pandas.core.frame.DataFrame'>\n",
      "RangeIndex: 4545007 entries, 0 to 4545006\n",
      "Data columns (total 4 columns):\n",
      " #   Column             Non-Null Count    Dtype\n",
      "---  ------             --------------    -----\n",
      " 0   order_id           4545007 non-null  int64\n",
      " 1   product_id         4545007 non-null  int64\n",
      " 2   add_to_cart_order  4545007 non-null  int32\n",
      " 3   reordered          4545007 non-null  int64\n",
      "dtypes: int32(1), int64(3)\n",
      "memory usage: 121.4 MB\n"
     ]
    }
   ],
   "source": [
    "# Replace missing values with 999 and convert column to integer type\n",
    "# Replace missing values with 999 using fillna()\n",
    "order_products['add_to_cart_order'] = order_products['add_to_cart_order'].fillna(999)\n",
    "# Check to see if converting 'add_to_cart_order' will lose information when converting\n",
    "print(np.array_equal(order_products['add_to_cart_order'], \n",
    "                     order_products['add_to_cart_order'].astype('int')))\n",
    "# Do the actual conversion / cast\n",
    "order_products['add_to_cart_order'] = order_products['add_to_cart_order'].astype('int')\n",
    "# Make sure it worked\n",
    "order_products.info(show_counts=True)"
   ]
  },
  {
   "cell_type": "markdown",
   "id": "turkish-kidney",
   "metadata": {},
   "source": [
    "# [A] Easy (must complete all to pass)"
   ]
  },
  {
   "cell_type": "markdown",
   "id": "short-capability",
   "metadata": {},
   "source": [
    "### [A1] Verify that the `'order_hour_of_day'` and `'order_dow'` values in the `orders` tables are sensible (i.e. `'order_hour_of_day'` ranges from 0 to 23 and `'order_dow'` ranges from 0 to 6)"
   ]
  },
  {
   "cell_type": "code",
   "execution_count": 31,
   "id": "growing-fruit",
   "metadata": {},
   "outputs": [
    {
     "name": "stdout",
     "output_type": "stream",
     "text": [
      "True\n"
     ]
    }
   ],
   "source": [
    "# check whether the min and max values are from 0 to 23\n",
    "print((orders['order_hour_of_day'].min() >=0) & (orders['order_hour_of_day'].max() <=23))"
   ]
  },
  {
   "cell_type": "code",
   "execution_count": 32,
   "id": "accessory-malaysia",
   "metadata": {},
   "outputs": [
    {
     "name": "stdout",
     "output_type": "stream",
     "text": [
      "True\n",
      "[6 5 0 4 3 1 2]\n"
     ]
    }
   ],
   "source": [
    "# check whether the min and max values are from 0 to 6\n",
    "print((orders['order_dow'].min() >=0) & (orders['order_dow'].max() <=6))\n",
    "print(orders['order_dow'].unique())"
   ]
  },
  {
   "cell_type": "markdown",
   "id": "a6743a70",
   "metadata": {},
   "source": [
    "### [A2] What time of day do people shop for groceries?"
   ]
  },
  {
   "cell_type": "code",
   "execution_count": 33,
   "id": "a36cca27",
   "metadata": {},
   "outputs": [
    {
     "name": "stdout",
     "output_type": "stream",
     "text": [
      "order_hour_of_day\n",
      "0      3180\n",
      "1      1763\n",
      "2       989\n",
      "3       770\n",
      "4       765\n",
      "5      1371\n",
      "6      4215\n",
      "7     13043\n",
      "8     25024\n",
      "9     35896\n",
      "10    40578\n",
      "11    40032\n",
      "12    38034\n",
      "13    39007\n",
      "14    39631\n",
      "15    39789\n",
      "16    38112\n",
      "17    31930\n",
      "18    25510\n",
      "19    19547\n",
      "20    14624\n",
      "21    11019\n",
      "22     8512\n",
      "23     5611\n",
      "Name: order_id, dtype: int64\n"
     ]
    },
    {
     "data": {
      "image/png": "[encoded data removed]",
      "text/plain": [
       "<Figure size 1000x600 with 1 Axes>"
      ]
     },
     "metadata": {},
     "output_type": "display_data"
    }
   ],
   "source": [
    "# It looks like most people shop for groceries between 7am and 9pm.\n",
    "print(orders.groupby('order_hour_of_day')['order_id'].count())\n",
    "orders.groupby('order_hour_of_day')['order_id'].count().plot(kind = 'bar', \n",
    "                                                                 figsize=(10,6),\n",
    "                                                                xlabel='Hour of the Day',\n",
    "                                                                ylabel='Orders',\n",
    "                                                                title='Time of day People Shop for Groceries')\n",
    "plt.show()"
   ]
  },
  {
   "cell_type": "markdown",
   "id": "documented-command",
   "metadata": {},
   "source": [
    "### [A3] What day of the week do people shop for groceries?"
   ]
  },
  {
   "cell_type": "code",
   "execution_count": 34,
   "id": "chief-digit",
   "metadata": {},
   "outputs": [
    {
     "name": "stdout",
     "output_type": "stream",
     "text": [
      "order_dow\n",
      "Sunday       84090\n",
      "Monday       82185\n",
      "Tuesday      65833\n",
      "Wednesday    60897\n",
      "Thursday     59810\n",
      "Friday       63488\n",
      "Saturday     62649\n",
      "Name: order_id, dtype: int64\n"
     ]
    },
    {
     "data": {
      "image/png": "[encoded data removed]",
      "text/plain": [
       "<Figure size 1000x600 with 1 Axes>"
      ]
     },
     "metadata": {},
     "output_type": "display_data"
    }
   ],
   "source": [
    "# Create a dictionary mapping numbers to days of the week\n",
    "days = {0:'Sunday', 1:'Monday', 2:'Tuesday', 3:'Wednesday', 4:'Thursday', 5:'Friday', 6:'Saturday'}\n",
    "# Use groupby to count the orders per day of the week\n",
    "orders_per_day = orders.groupby('order_dow')['order_id'].count()\n",
    "# Rename the index using the days dictionary\n",
    "orders_per_day.index = orders_per_day.index.map(days)\n",
    "# Print it\n",
    "print(orders_per_day)\n",
    "# It looks like most people shop for groceries on Sunday and Monday.\n",
    "\n",
    "# Plot the data\n",
    "orders_per_day.plot(kind = 'bar',\n",
    "                    figsize=(10,6),\n",
    "                    xlabel='Order Day of the Week',\n",
    "                    ylabel='Number of Orders',\n",
    "                    title='Which Days People Shop for Groceries')\n",
    "\n",
    "plt.show()"
   ]
  },
  {
   "cell_type": "markdown",
   "id": "cutting-concert",
   "metadata": {},
   "source": [
    "### [A4] How long do people wait until placing another order?"
   ]
  },
  {
   "cell_type": "code",
   "execution_count": 35,
   "id": "c231f523",
   "metadata": {},
   "outputs": [
    {
     "name": "stdout",
     "output_type": "stream",
     "text": [
      "days_since_prior_order\n",
      "0.0      9589\n",
      "1.0     20179\n",
      "2.0     27138\n",
      "3.0     30224\n",
      "4.0     31006\n",
      "5.0     30096\n",
      "6.0     33930\n",
      "7.0     44577\n",
      "8.0     25361\n",
      "9.0     16753\n",
      "10.0    13309\n",
      "11.0    11467\n",
      "12.0    10658\n",
      "13.0    11737\n",
      "14.0    13992\n",
      "15.0     9416\n",
      "16.0     6587\n",
      "17.0     5498\n",
      "18.0     4971\n",
      "19.0     4939\n",
      "20.0     5302\n",
      "21.0     6448\n",
      "22.0     4514\n",
      "23.0     3337\n",
      "24.0     3015\n",
      "25.0     2711\n",
      "26.0     2640\n",
      "27.0     2986\n",
      "28.0     3745\n",
      "29.0     2673\n",
      "30.0    51337\n",
      "Name: user_id, dtype: int64\n"
     ]
    },
    {
     "data": {
      "image/png": "[encoded data removed]",
      "text/plain": [
       "<Figure size 1000x600 with 1 Axes>"
      ]
     },
     "metadata": {},
     "output_type": "display_data"
    }
   ],
   "source": [
    "# It looks like most people order within two weeks.\n",
    "print(orders.groupby('days_since_prior_order')['user_id'].count())\n",
    "orders.groupby('days_since_prior_order')['user_id'].count().plot(kind = 'bar', \n",
    "                                                                 figsize=(10,6),\n",
    "                                                                xlabel='Days',\n",
    "                                                                ylabel='Users',\n",
    "                                                                title='Days Until User Places Another Order')\n",
    "plt.show()"
   ]
  },
  {
   "cell_type": "markdown",
   "id": "tight-staff",
   "metadata": {},
   "source": [
    "# [B] Medium (must complete all to pass)"
   ]
  },
  {
   "cell_type": "markdown",
   "id": "packed-classic",
   "metadata": {},
   "source": [
    "### [B1] Is there a difference in `'order_hour_of_day'` distributions on Wednesdays and Saturdays? Plot the histograms for both days and describe the differences that you see."
   ]
  },
  {
   "cell_type": "code",
   "execution_count": 36,
   "id": "d89b8403",
   "metadata": {},
   "outputs": [],
   "source": [
    "# Get the data for Wednesday and Saturday\n",
    "wednesday = orders[orders['order_dow'] == 3]['order_hour_of_day']\n",
    "saturday = orders[orders['order_dow'] == 6]['order_hour_of_day']"
   ]
  },
  {
   "cell_type": "code",
   "execution_count": 37,
   "id": "94e54e8a",
   "metadata": {},
   "outputs": [
    {
     "data": {
      "image/png": "[encoded data removed]",
      "text/plain": [
       "<Figure size 1000x600 with 1 Axes>"
      ]
     },
     "metadata": {},
     "output_type": "display_data"
    }
   ],
   "source": [
    "# Create the histogram\n",
    "plt.figure(figsize=(10,6))\n",
    "plt.hist(wednesday, bins=24, alpha=0.5, label='Wednesday')\n",
    "plt.hist(saturday, bins=24, alpha=0.5, label='Saturday')\n",
    "# Set Labels and Legend\n",
    "plt.xlabel('Hour of Day')\n",
    "plt.ylabel('Order Count')\n",
    "plt.title('Order Hour of Day Distributions for Wednesdays and Saturdays')\n",
    "plt.legend(loc='upper left')\n",
    "# Show the histogram\n",
    "plt.show()"
   ]
  },
  {
   "cell_type": "markdown",
   "id": "9c09b2cf",
   "metadata": {},
   "source": [
    "The difference is minimal. It seems like the distributions do not differ much.\n",
    "\n",
    "Saturdays have more orders and they're distributed in the late mornings and early afternoons"
   ]
  },
  {
   "cell_type": "markdown",
   "id": "e3891143",
   "metadata": {},
   "source": [
    "### [B2] What's the distribution for the number of orders per customer?"
   ]
  },
  {
   "cell_type": "code",
   "execution_count": 38,
   "id": "d8c26c23",
   "metadata": {},
   "outputs": [
    {
     "data": {
      "image/png": "[encoded data removed]",
      "text/plain": [
       "<Figure size 1000x600 with 1 Axes>"
      ]
     },
     "metadata": {},
     "output_type": "display_data"
    }
   ],
   "source": [
    "# Count the order numbers and group them by user id to find the number of orders per customer\n",
    "orders_per_user = orders.groupby('user_id')['order_number'].count()\n",
    "plt.figure(figsize=(10,6))\n",
    "plt.hist(orders_per_user, bins=30, alpha=0.5)\n",
    "plt.xlabel('Number of Orders')\n",
    "plt.ylabel('Number of Users')\n",
    "plt.title('Distribution of Number of Orders per Customer')\n",
    "plt.show()"
   ]
  },
  {
   "cell_type": "markdown",
   "id": "d2eff7d5",
   "metadata": {},
   "source": []
  },
  {
   "cell_type": "markdown",
   "id": "54a0319c",
   "metadata": {},
   "source": [
    "### [B3] What are the top 20 popular products (display their id and name)?"
   ]
  },
  {
   "cell_type": "code",
   "execution_count": 39,
   "id": "exterior-arizona",
   "metadata": {
    "scrolled": true
   },
   "outputs": [],
   "source": [
    "# Merge the datasets on the 'product_id'\n",
    "merged = pd.merge(order_products, products, on='product_id')"
   ]
  },
  {
   "cell_type": "code",
   "execution_count": 40,
   "id": "universal-facial",
   "metadata": {},
   "outputs": [],
   "source": [
    "# Count the number of orders for each product\n",
    "product_counts = merged.groupby(['product_id', 'product_name']).size()"
   ]
  },
  {
   "cell_type": "code",
   "execution_count": 41,
   "id": "bbcdd20b",
   "metadata": {},
   "outputs": [
    {
     "name": "stdout",
     "output_type": "stream",
     "text": [
      "product_id  product_name            \n",
      "24852       Banana                      66050\n",
      "13176       Bag of Organic Bananas      53297\n",
      "21137       Organic Strawberries        37039\n",
      "21903       Organic Baby Spinach        33971\n",
      "47209       Organic Hass Avocado        29773\n",
      "47766       Organic Avocado             24689\n",
      "47626       Large Lemon                 21495\n",
      "16797       Strawberries                20018\n",
      "26209       Limes                       19690\n",
      "27845       Organic Whole Milk          19600\n",
      "27966       Organic Raspberries         19197\n",
      "22935       Organic Yellow Onion        15898\n",
      "24964       Organic Garlic              15292\n",
      "45007       Organic Zucchini            14584\n",
      "39275       Organic Blueberries         13879\n",
      "49683       Cucumber Kirby              13675\n",
      "28204       Organic Fuji Apple          12544\n",
      "5876        Organic Lemon               12232\n",
      "8277        Apple Honeycrisp Organic    11993\n",
      "40706       Organic Grape Tomatoes      11781\n",
      "dtype: int64\n"
     ]
    }
   ],
   "source": [
    "# Print products based on counts sorted in descending order\n",
    "print(product_counts.sort_values(ascending=False).head(20))"
   ]
  },
  {
   "cell_type": "markdown",
   "id": "gross-theme",
   "metadata": {},
   "source": [
    "# [C] Hard (must complete at least two to pass)"
   ]
  },
  {
   "cell_type": "markdown",
   "id": "romantic-deposit",
   "metadata": {},
   "source": [
    "### [C1] How many items do people typically buy in one order? What does the distribution look like?"
   ]
  },
  {
   "cell_type": "code",
   "execution_count": 42,
   "id": "virtual-punch",
   "metadata": {},
   "outputs": [],
   "source": [
    "# Find the number of items ordered per order using .count() and group them by order id\n",
    "items_per_order = order_products.groupby('order_id')['product_id'].count()"
   ]
  },
  {
   "cell_type": "code",
   "execution_count": 43,
   "id": "sensitive-breathing",
   "metadata": {},
   "outputs": [
    {
     "name": "stdout",
     "output_type": "stream",
     "text": [
      "Median number of items per order: 8.0\n"
     ]
    }
   ],
   "source": [
    "print('Median number of items per order:', items_per_order.median())"
   ]
  },
  {
   "cell_type": "code",
   "execution_count": 44,
   "id": "completed-frank",
   "metadata": {},
   "outputs": [
    {
     "data": {
      "image/png": "[encoded data removed]",
      "text/plain": [
       "<Figure size 1000x600 with 1 Axes>"
      ]
     },
     "metadata": {},
     "output_type": "display_data"
    }
   ],
   "source": [
    "plt.figure(figsize=(10,6))\n",
    "plt.hist(items_per_order, bins=30, alpha=0.5)\n",
    "plt.xlabel('Number of Items')\n",
    "plt.ylabel('Number of Orders')\n",
    "plt.title('Distribution of Number of Items per Order')\n",
    "plt.show()"
   ]
  },
  {
   "cell_type": "markdown",
   "id": "5e6b5537",
   "metadata": {},
   "source": [
    "### [C2] What are the top 20 items that are reordered most frequently (display their names and product IDs)?"
   ]
  },
  {
   "cell_type": "code",
   "execution_count": 45,
   "id": "9374e55a",
   "metadata": {},
   "outputs": [],
   "source": [
    "# Filter for only reordered products\n",
    "reordered_products = order_products[order_products['reordered'] == 1]\n",
    "# Count the number of times each product was reordered\n",
    "reorder_counts = reordered_products['product_id'].value_counts()\n",
    "# Get the Product IDs of the top 20 reordered products\n",
    "top_reordered_product_ids = reorder_counts.head(20).index\n",
    "# Get their names\n",
    "top_reordered_products = products[products['product_id'].isin(top_reordered_product_ids)]"
   ]
  },
  {
   "cell_type": "code",
   "execution_count": 46,
   "id": "possible-change",
   "metadata": {
    "scrolled": true
   },
   "outputs": [
    {
     "name": "stdout",
     "output_type": "stream",
     "text": [
      "       product_id              product_name\n",
      "5875         5876             Organic Lemon\n",
      "8276         8277  Apple Honeycrisp Organic\n",
      "13175       13176    Bag of Organic Bananas\n",
      "16796       16797              Strawberries\n",
      "21136       21137      Organic Strawberries\n",
      "21902       21903      Organic Baby Spinach\n",
      "22934       22935      Organic Yellow Onion\n",
      "24851       24852                    Banana\n",
      "24963       24964            Organic Garlic\n",
      "26208       26209                     Limes\n",
      "27844       27845        Organic Whole Milk\n",
      "27965       27966       Organic Raspberries\n",
      "28203       28204        Organic Fuji Apple\n",
      "39274       39275       Organic Blueberries\n",
      "45006       45007          Organic Zucchini\n",
      "47208       47209      Organic Hass Avocado\n",
      "47625       47626               Large Lemon\n",
      "47765       47766           Organic Avocado\n",
      "49234       49235       Organic Half & Half\n",
      "49682       49683            Cucumber Kirby\n"
     ]
    }
   ],
   "source": [
    "print(top_reordered_products[['product_id', 'product_name']])"
   ]
  },
  {
   "cell_type": "markdown",
   "id": "9d312b14",
   "metadata": {},
   "source": [
    "### [C3] For each product, what proportion of its orders are reorders?"
   ]
  },
  {
   "cell_type": "code",
   "execution_count": 47,
   "id": "8ae9f4b1",
   "metadata": {},
   "outputs": [
    {
     "name": "stdout",
     "output_type": "stream",
     "text": [
      "                                            product_name  reorder_proportion\n",
      "0                             Chocolate Sandwich Cookies            0.564286\n",
      "1                                       All-Seasons Salt                 NaN\n",
      "2                   Robust Golden Unsweetened Oolong Tea            0.738095\n",
      "3      Smart Ones Classic Favorites Mini Rigatoni Wit...            0.510204\n",
      "4                         Pure Coconut Water With Orange            0.500000\n",
      "...                                                  ...                 ...\n",
      "45568                      HIGH PERFORMANCE ENERGY DRINK            0.800000\n",
      "45569                      ORIGINAL PANCAKE & WAFFLE MIX            0.430556\n",
      "45570    ORGANIC INSTANT OATMEAL LIGHT MAPLE BROWN SUGAR            0.416667\n",
      "45571                             SPRING WATER BODY WASH            0.440000\n",
      "45572                            BURRITO- STEAK & CHEESE            0.333333\n",
      "\n",
      "[45573 rows x 2 columns]\n"
     ]
    }
   ],
   "source": [
    "# Count the total number of orders for each product\n",
    "total_orders = order_products['product_id'].value_counts()\n",
    "# Filter for reordered products - dependent on a previous cell\n",
    "\n",
    "# Calculate the proportion of reorders\n",
    "reorder_proportion = reorder_counts / total_orders\n",
    "# Convert to DataFrame\n",
    "reorder_proportion_df = reorder_proportion.reset_index()\n",
    "reorder_proportion_df.columns = ['product_id', 'reorder_proportion']\n",
    "# Merge with products DataFrame\n",
    "product_reorder_proportions = pd.merge(reorder_proportion_df, products, on='product_id')\n",
    "# Print the product ids, names, and reorder proportions\n",
    "print(product_reorder_proportions[['product_name', 'reorder_proportion']])"
   ]
  },
  {
   "cell_type": "markdown",
   "id": "subject-boxing",
   "metadata": {},
   "source": [
    "### [C4] For each customer, what proportion of their products ordered are reorders?"
   ]
  },
  {
   "cell_type": "code",
   "execution_count": 48,
   "id": "medical-couple",
   "metadata": {
    "scrolled": true
   },
   "outputs": [
    {
     "name": "stdout",
     "output_type": "stream",
     "text": [
      "user_id\n",
      "2         0.038462\n",
      "4              NaN\n",
      "5         0.666667\n",
      "6              NaN\n",
      "7         0.928571\n",
      "            ...   \n",
      "206203    0.222222\n",
      "206206    0.714286\n",
      "206207    0.891304\n",
      "206208    0.696000\n",
      "206209    0.320000\n",
      "Length: 149626, dtype: float64\n"
     ]
    }
   ],
   "source": [
    "# Merge 'orders' and 'order_products' on 'order_id'\n",
    "merged = pd.merge(orders, order_products, on='order_id')\n",
    "# Count the total number of orders for each customer\n",
    "total_orders = merged.groupby('user_id').size()\n",
    "# Filter for reordered products\n",
    "reordered_products = merged[merged['reordered'] == 1]\n",
    "# Count the number of reorders for each customer\n",
    "reorder_counts = reordered_products.groupby('user_id').size()\n",
    "# Calculate the proportion of reorders\n",
    "reorder_proportion = reorder_counts / total_orders\n",
    "# Print the user ids and reorder proportions\n",
    "print(reorder_proportion)"
   ]
  },
  {
   "cell_type": "markdown",
   "id": "92d35137",
   "metadata": {},
   "source": [
    "### [C5] What are the top 20 items that people put in their carts first? "
   ]
  },
  {
   "cell_type": "code",
   "execution_count": 49,
   "id": "0ae57274",
   "metadata": {
    "scrolled": true
   },
   "outputs": [
    {
     "name": "stdout",
     "output_type": "stream",
     "text": [
      "    product_id                 product_name  frequency\n",
      "0          196                         Soda       1733\n",
      "1         5785  Organic Reduced Fat 2% Milk       1310\n",
      "2        12341                Hass Avocados       1340\n",
      "3        13176       Bag of Organic Bananas      11026\n",
      "4        16797                 Strawberries       2308\n",
      "5        19660                 Spring Water       2336\n",
      "6        21137         Organic Strawberries       3946\n",
      "7        21903         Organic Baby Spinach       3336\n",
      "8        24852                       Banana      15562\n",
      "9        26209                        Limes       1370\n",
      "10       27086                  Half & Half       1309\n",
      "11       27845           Organic Whole Milk       4363\n",
      "12       27966          Organic Raspberries       2024\n",
      "13       38689     Organic Reduced Fat Milk       1397\n",
      "14       43352                  Raspberries       1246\n",
      "15       44632   Sparkling Water Grapefruit       1914\n",
      "16       47209         Organic Hass Avocado       3390\n",
      "17       47626                  Large Lemon       1737\n",
      "18       47766              Organic Avocado       3044\n",
      "19       49235          Organic Half & Half       1797\n"
     ]
    }
   ],
   "source": [
    "# Filter for products that were added to the cart first\n",
    "first_added_products = order_products[order_products['add_to_cart_order'] == 1]\n",
    "# Count the number of times each product was the first item added to the cart\n",
    "first_added_counts = first_added_products['product_id'].value_counts()\n",
    "# Get the product ids of the top 20 products that were added to the cart first\n",
    "top_first_added_product_ids = first_added_counts.head(20).index\n",
    "# Get the names of the top 20 products that were added to the cart first\n",
    "top_first_added_products = products[products['product_id'].isin(top_first_added_product_ids)]\n",
    "# Add the frequencies to the DataFrame\n",
    "top_first_added_products = top_first_added_products.set_index('product_id')\n",
    "top_first_added_products['frequency'] = first_added_counts\n",
    "# Print the product ids and names\n",
    "print(top_first_added_products.reset_index()[['product_id', 'product_name', 'frequency']])"
   ]
  }
 ],
 "metadata": {
  "kernelspec": {
   "display_name": "Python 3 (ipykernel)",
   "language": "python",
   "name": "python3"
  },
  "language_info": {
   "codemirror_mode": {
    "name": "ipython",
    "version": 3
   },
   "file_extension": ".py",
   "mimetype": "text/x-python",
   "name": "python",
   "nbconvert_exporter": "python",
   "pygments_lexer": "ipython3",
   "version": "3.11.5"
  },
  "toc": {
   "base_numbering": 1,
   "nav_menu": {},
   "number_sections": true,
   "sideBar": true,
   "skip_h1_title": true,
   "title_cell": "Table of Contents",
   "title_sidebar": "Contents",
   "toc_cell": false,
   "toc_position": {},
   "toc_section_display": true,
   "toc_window_display": false
  },
  "vscode": {
   "interpreter": {
    "hash": "01a7be9ec63e704a62cefc5fe7a4756944464ee731be31632bdf42a4cb4688cf"
   }
  }
 },
 "nbformat": 4,
 "nbformat_minor": 5
}
