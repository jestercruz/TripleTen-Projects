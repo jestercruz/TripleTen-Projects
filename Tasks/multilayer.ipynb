{
 "cells": [
  {
   "cell_type": "code",
   "execution_count": 11,
   "metadata": {},
   "outputs": [],
   "source": [
    "# from tensorflow.keras.datasets import fashion_mnist\n",
    "from tensorflow.keras.layers import Dense\n",
    "from tensorflow.keras.models import Sequential\n",
    "import numpy as np"
   ]
  },
  {
   "cell_type": "code",
   "execution_count": 12,
   "metadata": {},
   "outputs": [],
   "source": [
    "def load_train(path):\n",
    "    fashion_data = fashion_mnist\n",
    "    features_train, target_train = fashion_data.load_data()[0]\n",
    "    features_train = (features_train.reshape(features_train.shape[0], 28 * 28) / 255.0)\n",
    "    return features_train, target_train\n",
    "\n",
    "def load_test(fashion_data):\n",
    "    features_test, target_test = fashion_data.load_data()[1]\n",
    "    features_test = features_test.reshape(features_test.shape[0], 28 * 28) / 255.0\n",
    "    return (features_test, target_test)"
   ]
  },
  {
   "cell_type": "code",
   "execution_count": 13,
   "metadata": {},
   "outputs": [],
   "source": [
    "def create_model(input_shape):\n",
    "    model = Sequential()\n",
    "    model.add(Dense(512, input_shape=input_shape, activation='relu'))\n",
    "    model.add(Dense(100, activation='relu'))\n",
    "    model.add(Dense(10, activation='softmax'))\n",
    "    model.compile(optimizer='sgd', loss='sparse_categorical_crossentropy',\n",
    "                  metrics=['acc'])\n",
    "\n",
    "    return model"
   ]
  },
  {
   "cell_type": "code",
   "execution_count": 14,
   "metadata": {},
   "outputs": [],
   "source": [
    "def train_model(model, train_data, test_data, batch_size=32, epochs=5, steps_per_epoch=None, validation_steps=None):\n",
    "    features_train, target_train = train_data\n",
    "    features_test, target_test = test_data\n",
    "    model.fit(features_train, target_train, validation_data=(features_test, target_test), batch_size=batch_size, epochs=epochs, steps_per_epoch=steps_per_epoch, validation_steps=validation_steps, verbose=2, shuffle=True)\n",
    "\n",
    "    return model"
   ]
  },
  {
   "cell_type": "code",
   "execution_count": 15,
   "metadata": {},
   "outputs": [
    {
     "name": "stdout",
     "output_type": "stream",
     "text": [
      "Epoch 1/5\n",
      "1875/1875 - 4s - loss: 0.6778 - acc: 0.7790 - val_loss: 0.5124 - val_acc: 0.8196 - 4s/epoch - 2ms/step\n",
      "Epoch 2/5\n",
      "1875/1875 - 3s - loss: 0.4691 - acc: 0.8364 - val_loss: 0.5012 - val_acc: 0.8159 - 3s/epoch - 2ms/step\n",
      "Epoch 3/5\n",
      "1875/1875 - 3s - loss: 0.4268 - acc: 0.8500 - val_loss: 0.4376 - val_acc: 0.8463 - 3s/epoch - 2ms/step\n",
      "Epoch 4/5\n",
      "1875/1875 - 3s - loss: 0.4004 - acc: 0.8601 - val_loss: 0.4442 - val_acc: 0.8448 - 3s/epoch - 2ms/step\n",
      "Epoch 5/5\n",
      "1875/1875 - 3s - loss: 0.3803 - acc: 0.8666 - val_loss: 0.4051 - val_acc: 0.8542 - 3s/epoch - 2ms/step\n",
      "313/313 - 0s - loss: 0.4051 - acc: 0.8542 - 227ms/epoch - 726us/step\n",
      "Model accuracy: 85.42%\n"
     ]
    }
   ],
   "source": [
    "if __name__ == \"__main__\":\n",
    "    train_data = load_train(fashion_mnist)\n",
    "    test_data = load_test(fashion_mnist)\n",
    "    model = create_model(train_data[0].shape[1:])\n",
    "    model = train_model(model, train_data, test_data)\n",
    "    loss, acc = model.evaluate(test_data[0], test_data[1], verbose=2)\n",
    "    print(\"Model accuracy: {:5.2f}%\".format(100 * acc))"
   ]
  }
 ],
 "metadata": {
  "kernelspec": {
   "display_name": "base",
   "language": "python",
   "name": "python3"
  },
  "language_info": {
   "codemirror_mode": {
    "name": "ipython",
    "version": 3
   },
   "file_extension": ".py",
   "mimetype": "text/x-python",
   "name": "python",
   "nbconvert_exporter": "python",
   "pygments_lexer": "ipython3",
   "version": "3.11.5"
  }
 },
 "nbformat": 4,
 "nbformat_minor": 2
}
