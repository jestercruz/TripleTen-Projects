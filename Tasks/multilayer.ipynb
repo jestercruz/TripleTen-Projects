{
 "cells": [
  {
   "cell_type": "code",
   "execution_count": 12,
   "metadata": {},
   "outputs": [],
   "source": [
    "# import tensorflow as tf\n",
    "# import keras\n",
    "\n",
    "# from keras.datasets import fashion_mnist\n",
    "# from keras.layers import Dense\n",
    "# from keras.models import Sequential\n",
    "# import numpy as np"
   ]
  },
  {
   "cell_type": "code",
   "execution_count": 23,
   "metadata": {},
   "outputs": [],
   "source": [
    "!pip uninstall tensorflow"
   ]
  },
  {
   "cell_type": "code",
   "execution_count": null,
   "metadata": {},
   "outputs": [],
   "source": [
    "from tensorflow.keras.datasets import fashion_mnist\n",
    "from tensorflow.keras.layers import Dense\n",
    "from tensorflow.keras.models import Sequential\n",
    "import numpy as np"
   ]
  },
  {
   "cell_type": "code",
   "execution_count": 13,
   "metadata": {},
   "outputs": [],
   "source": [
    "def load_train(path):\n",
    "    fashion_data = fashion_mnist\n",
    "    features_train, target_train = fashion_data.load_data()[0]\n",
    "    features_train = (features_train.reshape(features_train.shape[0], 28 * 28) / 255.0)\n",
    "    return features_train, target_train\n",
    "\n",
    "def load_test(fashion_data):\n",
    "    features_test, target_test = fashion_data.load_data()[1]\n",
    "    features_test = features_test.reshape(features_test.shape[0], 28 * 28) / 255.0\n",
    "    return (features_test, target_test)"
   ]
  },
  {
   "cell_type": "code",
   "execution_count": 14,
   "metadata": {},
   "outputs": [],
   "source": [
    "def create_model(input_shape):\n",
    "    model = Sequential()\n",
    "    model.add(Dense(10, input_shape=input_shape, activation='softmax'))\n",
    "    model.compile(\n",
    "        optimizer='sgd',\n",
    "        loss='sparse_categorical_crossentropy',\n",
    "        metrics=['acc'],\n",
    "    )\n",
    "\n",
    "    return model"
   ]
  },
  {
   "cell_type": "code",
   "execution_count": 15,
   "metadata": {},
   "outputs": [],
   "source": [
    "def train_model(\n",
    "    model,\n",
    "    train_data,\n",
    "    test_data,\n",
    "    batch_size=32,\n",
    "    epochs=5,\n",
    "    steps_per_epoch=None,\n",
    "    validation_steps=None,\n",
    "):\n",
    "\n",
    "    features_train, target_train = train_data\n",
    "    features_test, target_test = test_data\n",
    "    model.fit(\n",
    "        features_train,\n",
    "        target_train,\n",
    "        validation_data=(features_test, target_test),\n",
    "        batch_size=batch_size,\n",
    "        epochs=epochs,\n",
    "        steps_per_epoch=steps_per_epoch,\n",
    "        validation_steps=validation_steps,\n",
    "        verbose=2,\n",
    "        shuffle=True,\n",
    "    )\n",
    "\n",
    "    return model"
   ]
  },
  {
   "cell_type": "code",
   "execution_count": 17,
   "metadata": {},
   "outputs": [
    {
     "name": "stdout",
     "output_type": "stream",
     "text": [
      "Epoch 1/5\n",
      "1875/1875 - 1s - 792us/step - acc: 0.7351 - loss: 0.8289 - val_acc: 0.7800 - val_loss: 0.6545\n",
      "Epoch 2/5\n",
      "1875/1875 - 1s - 632us/step - acc: 0.8068 - loss: 0.5930 - val_acc: 0.8043 - val_loss: 0.5814\n",
      "Epoch 3/5\n",
      "1875/1875 - 1s - 593us/step - acc: 0.8220 - loss: 0.5427 - val_acc: 0.8117 - val_loss: 0.5542\n",
      "Epoch 4/5\n",
      "1875/1875 - 1s - 592us/step - acc: 0.8289 - loss: 0.5156 - val_acc: 0.8202 - val_loss: 0.5312\n",
      "Epoch 5/5\n",
      "1875/1875 - 1s - 633us/step - acc: 0.8342 - loss: 0.4981 - val_acc: 0.8241 - val_loss: 0.5174\n",
      "313/313 - 0s - 539us/step - acc: 0.8241 - loss: 0.5174\n",
      "Model accuracy: 82.41%\n"
     ]
    }
   ],
   "source": [
    "if __name__ == \"__main__\":\n",
    "    train_data = load_train(fashion_mnist)\n",
    "    test_data = load_test(fashion_mnist)\n",
    "    model = create_model(train_data[0].shape[1:])\n",
    "    model = train_model(model, train_data, test_data)\n",
    "    loss, acc = model.evaluate(test_data[0], test_data[1], verbose=2)\n",
    "    print(\"Model accuracy: {:5.2f}%\".format(100 * acc))"
   ]
  }
 ],
 "metadata": {
  "kernelspec": {
   "display_name": "base",
   "language": "python",
   "name": "python3"
  },
  "language_info": {
   "codemirror_mode": {
    "name": "ipython",
    "version": 3
   },
   "file_extension": ".py",
   "mimetype": "text/x-python",
   "name": "python",
   "nbconvert_exporter": "python",
   "pygments_lexer": "ipython3",
   "version": "3.11.5"
  }
 },
 "nbformat": 4,
 "nbformat_minor": 2
}
